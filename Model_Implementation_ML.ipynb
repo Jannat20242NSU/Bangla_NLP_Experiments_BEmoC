{
  "nbformat": 4,
  "nbformat_minor": 0,
  "metadata": {
    "colab": {
      "provenance": [],
      "gpuType": "T4",
      "include_colab_link": true
    },
    "kernelspec": {
      "name": "python3",
      "display_name": "Python 3"
    },
    "language_info": {
      "name": "python"
    },
    "accelerator": "GPU"
  },
  "cells": [
    {
      "cell_type": "markdown",
      "metadata": {
        "id": "view-in-github",
        "colab_type": "text"
      },
      "source": [
        "<a href=\"https://colab.research.google.com/github/Jannat20242NSU/Bangla_NLP_Experiments_BEmoC/blob/main/Model_Implementation_ML.ipynb\" target=\"_parent\"><img src=\"https://colab.research.google.com/assets/colab-badge.svg\" alt=\"Open In Colab\"/></a>"
      ]
    },
    {
      "cell_type": "markdown",
      "source": [
        "#Import Libraries"
      ],
      "metadata": {
        "id": "vHtr4CgvPn1e"
      }
    },
    {
      "cell_type": "code",
      "source": [
        "import numpy as np\n",
        "import pandas as pd\n",
        "import seaborn as sns\n",
        "import yaml\n",
        "import matplotlib.pyplot as plt\n",
        "import plotly.express as px\n",
        "import plotly.graph_objects as go\n",
        "import pandas as pd\n",
        "import sys\n",
        "import nltk\n",
        "from wordcloud import WordCloud\n",
        "from nltk.tokenize import word_tokenize\n",
        "from sklearn.feature_extraction.text import CountVectorizer\n",
        "from sklearn.utils import shuffle\n",
        "from sklearn import model_selection\n",
        "from sklearn.model_selection import StratifiedKFold\n",
        "from sklearn.model_selection import RepeatedStratifiedKFold\n",
        "from sklearn.metrics import classification_report, accuracy_score, confusion_matrix\n",
        "import pandas as pd\n",
        "import numpy as np\n",
        "from sklearn.preprocessing import LabelEncoder\n",
        "from sklearn.feature_extraction.text import CountVectorizer\n",
        "from sklearn.feature_extraction.text import TfidfVectorizer\n",
        "from nltk.classify.scikitlearn import SklearnClassifier\n",
        "from sklearn.ensemble import VotingClassifier\n",
        "from sklearn.neighbors import KNeighborsClassifier\n",
        "from sklearn.tree import DecisionTreeClassifier\n",
        "from sklearn.ensemble import RandomForestClassifier\n",
        "from sklearn.linear_model import LogisticRegression, SGDClassifier\n",
        "from sklearn.naive_bayes import MultinomialNB\n",
        "from sklearn.svm import SVC\n",
        "import xgboost as xgb\n",
        "from sklearn.model_selection import cross_val_score,cross_validate\n",
        "from sklearn.metrics import classification_report, accuracy_score, confusion_matrix, f1_score,make_scorer,precision_score, recall_score"
      ],
      "metadata": {
        "id": "-e6g1FS1P3an"
      },
      "execution_count": 1,
      "outputs": []
    },
    {
      "cell_type": "markdown",
      "source": [
        "#Load Dataset"
      ],
      "metadata": {
        "id": "lzgs_n6bQDQh"
      }
    },
    {
      "cell_type": "code",
      "source": [
        "df_train_wp = pd.read_excel('/content/drive/MyDrive/UBMEC Datasets/UBMEC_train_without_preprocess_Final.xlsx')\n",
        "df_val_wp = pd.read_excel('/content/drive/MyDrive/UBMEC Datasets/UBMEC_val_without_preprocess_Final.xlsx')"
      ],
      "metadata": {
        "id": "yFsqcU1RROCT"
      },
      "execution_count": 2,
      "outputs": []
    },
    {
      "cell_type": "code",
      "source": [
        "df_train_cl = pd.read_excel('/content/drive/MyDrive/UBMEC Datasets/UBMEC_train_cleaned_Final.xlsx')\n",
        "df_val_cl = pd.read_excel('/content/drive/MyDrive/UBMEC Datasets/UBMEC_val_cleaned_Final.xlsx')"
      ],
      "metadata": {
        "id": "rNf5r_yfTzLH"
      },
      "execution_count": 3,
      "outputs": []
    },
    {
      "cell_type": "code",
      "source": [
        "from google.colab import drive\n",
        "drive.mount('/content/drive')"
      ],
      "metadata": {
        "colab": {
          "base_uri": "https://localhost:8080/"
        },
        "id": "H_-aHOknGHmb",
        "outputId": "d89dd868-fada-43b5-867a-005279009278"
      },
      "execution_count": 4,
      "outputs": [
        {
          "output_type": "stream",
          "name": "stdout",
          "text": [
            "Drive already mounted at /content/drive; to attempt to forcibly remount, call drive.mount(\"/content/drive\", force_remount=True).\n"
          ]
        }
      ]
    },
    {
      "cell_type": "code",
      "source": [
        "df_train_cl_swr = pd.read_excel('/content/drive/MyDrive/UBMEC Datasets/UBMEC_train_cl+swr_Final.xlsx')\n",
        "df_val_cl_swr = pd.read_excel('/content/drive/MyDrive/UBMEC Datasets/UBMEC_val_cl+swr_Final.xlsx')"
      ],
      "metadata": {
        "id": "QNRvUWX_TzkN"
      },
      "execution_count": 5,
      "outputs": []
    },
    {
      "cell_type": "code",
      "source": [
        "df_train_cl_lemma = pd.read_excel('/content/drive/MyDrive/UBMEC Datasets/UBMEC_train_cl+lemma_Final.xlsx')\n",
        "df_val_cl_lemma = pd.read_excel('/content/drive/MyDrive/UBMEC Datasets/UBMEC_val_cl+lemma_Final.xlsx')"
      ],
      "metadata": {
        "id": "noGzGqGlTz4e"
      },
      "execution_count": 6,
      "outputs": []
    },
    {
      "cell_type": "code",
      "source": [
        "df_train_cl_swr_lemma = pd.read_excel('/content/drive/MyDrive/UBMEC Datasets/UBMEC_train_cl+swr+lemma_Final.xlsx')\n",
        "df_val_cl_swr_lemma = pd.read_excel('/content/drive/MyDrive/UBMEC Datasets/UBMEC_val_cl+swr+lemma_Final.xlsx')"
      ],
      "metadata": {
        "id": "vC4OJkqIT0MP"
      },
      "execution_count": 7,
      "outputs": []
    },
    {
      "cell_type": "markdown",
      "source": [
        "**Drop Null Values**"
      ],
      "metadata": {
        "id": "gGaWRbe-K33B"
      }
    },
    {
      "cell_type": "code",
      "source": [
        "df_train_wp.dropna(inplace = True)\n",
        "df_val_wp.dropna(inplace = True)\n",
        "df_train_cl.dropna(inplace = True)\n",
        "df_val_cl.dropna(inplace = True)\n",
        "df_train_cl_swr.dropna(inplace = True)\n",
        "df_val_cl_swr.dropna(inplace = True)\n",
        "df_train_cl_lemma.dropna(inplace = True)\n",
        "df_val_cl_lemma.dropna(inplace = True)\n",
        "df_train_cl_swr_lemma.dropna(inplace = True)\n",
        "df_val_cl_swr_lemma.dropna(inplace = True)"
      ],
      "metadata": {
        "id": "X6EFKzZVK95G"
      },
      "execution_count": 8,
      "outputs": []
    },
    {
      "cell_type": "markdown",
      "source": [
        "#Vectorization Tf-Idf"
      ],
      "metadata": {
        "id": "W3NChcyFSp4H"
      }
    },
    {
      "cell_type": "code",
      "execution_count": 9,
      "metadata": {
        "id": "W4iAX0omEOIW"
      },
      "outputs": [],
      "source": [
        "def create_document_term_matrix_train(sentence_list, vectorizer):\n",
        "  document_term_matrix = vectorizer.fit_transform(sentence_list)\n",
        "  return pd.DataFrame(document_term_matrix.toarray(), columns = vectorizer.get_feature_names_out())"
      ]
    },
    {
      "cell_type": "code",
      "source": [
        "def create_document_term_matrix_val(sentence_list, vectorizer):\n",
        "  document_term_matrix = vectorizer.transform(sentence_list)\n",
        "  return pd.DataFrame(document_term_matrix.toarray(), columns = vectorizer.get_feature_names_out())"
      ],
      "metadata": {
        "id": "xTH73sP9fAM9"
      },
      "execution_count": 10,
      "outputs": []
    },
    {
      "cell_type": "code",
      "execution_count": 11,
      "metadata": {
        "id": "MMtCzPmiEBrK"
      },
      "outputs": [],
      "source": [
        "tfidf = TfidfVectorizer()"
      ]
    },
    {
      "cell_type": "code",
      "execution_count": 12,
      "metadata": {
        "id": "ESvJiIxeE0Vn"
      },
      "outputs": [],
      "source": [
        "tfidf_train_wp = create_document_term_matrix_train(df_train_wp['text'], tfidf)\n",
        "tfidf_val_wp = create_document_term_matrix_val(df_val_wp['text'], tfidf)"
      ]
    },
    {
      "cell_type": "code",
      "execution_count": 13,
      "metadata": {
        "id": "U6w0gS04gG23"
      },
      "outputs": [],
      "source": [
        "tfidf_train_cl = create_document_term_matrix_train(df_train_cl['text'], tfidf)\n",
        "tfidf_val_cl = create_document_term_matrix_val(df_val_cl['text'], tfidf)"
      ]
    },
    {
      "cell_type": "code",
      "execution_count": 14,
      "metadata": {
        "id": "XYvk6-R1gGiQ"
      },
      "outputs": [],
      "source": [
        "tfidf_train_cl_swr = create_document_term_matrix_train(df_train_cl_swr['text'], tfidf)\n",
        "tfidf_val_cl_swr = create_document_term_matrix_val(df_val_cl_swr['text'], tfidf)"
      ]
    },
    {
      "cell_type": "code",
      "execution_count": 15,
      "metadata": {
        "id": "_MPgZv73gGNF"
      },
      "outputs": [],
      "source": [
        "tfidf_train_cl_lemma = create_document_term_matrix_train(df_train_cl_lemma['text'], tfidf)\n",
        "tfidf_val_cl_lemma = create_document_term_matrix_val(df_val_cl_lemma['text'], tfidf)"
      ]
    },
    {
      "cell_type": "code",
      "execution_count": 16,
      "metadata": {
        "id": "O2uXPY53gFyY"
      },
      "outputs": [],
      "source": [
        "tfidf_train_cl_swr_lemma = create_document_term_matrix_train(df_train_cl_swr_lemma['text'], tfidf)\n",
        "tfidf_val_cl_swr_lemma = create_document_term_matrix_val(df_val_cl_swr_lemma['text'], tfidf)"
      ]
    },
    {
      "cell_type": "markdown",
      "source": [
        "#Model Training"
      ],
      "metadata": {
        "id": "N8F0eiDGRoe4"
      }
    },
    {
      "cell_type": "markdown",
      "source": [
        "**LabelEncoding**"
      ],
      "metadata": {
        "id": "RGeEn876SKzT"
      }
    },
    {
      "cell_type": "code",
      "source": [
        "label_encoder = LabelEncoder()\n",
        "df_train_wp['encoded_labels'] = label_encoder.fit_transform(df_train_wp['labels'])\n",
        "df_val_wp['encoded_labels'] = label_encoder.transform(df_val_wp['labels'])\n"
      ],
      "metadata": {
        "id": "USJ80-1cSRPR"
      },
      "execution_count": 17,
      "outputs": []
    },
    {
      "cell_type": "code",
      "source": [
        "df_train_cl['encoded_labels'] = label_encoder.fit_transform(df_train_cl['labels'])\n",
        "df_val_cl['encoded_labels'] = label_encoder.transform(df_val_cl['labels'])\n",
        "df_train_cl_swr['encoded_labels'] = label_encoder.fit_transform(df_train_cl_swr['labels'])\n",
        "df_val_cl_swr['encoded_labels'] = label_encoder.transform(df_val_cl_swr['labels'])\n",
        "df_train_cl_lemma['encoded_labels'] = label_encoder.fit_transform(df_train_cl_lemma['labels'])\n",
        "df_val_cl_lemma['encoded_labels'] = label_encoder.transform(df_val_cl_lemma['labels'])\n",
        "df_train_cl_swr_lemma['encoded_labels'] = label_encoder.fit_transform(df_train_cl_swr_lemma['labels'])\n",
        "df_val_cl_swr_lemma['encoded_labels'] = label_encoder.transform(df_val_cl_swr_lemma['labels'])"
      ],
      "metadata": {
        "id": "wSZJsv6LTppm"
      },
      "execution_count": 18,
      "outputs": []
    },
    {
      "cell_type": "code",
      "source": [
        "names = ['Random Forest Tree', 'XGBOOST','Naive Bayes', 'SVM']\n",
        "classfiers = [\n",
        "              RandomForestClassifier(),\n",
        "              xgb.XGBClassifier(),\n",
        "              MultinomialNB(),\n",
        "              SVC()\n",
        "\n",
        "]\n",
        "models = zip(names, classfiers)"
      ],
      "metadata": {
        "id": "1d9K_SuyYU5I"
      },
      "execution_count": 31,
      "outputs": []
    },
    {
      "cell_type": "code",
      "source": [
        "reports = []\n",
        "def ML_models(X_train,X_test,y_train,y_test):\n",
        "  for name, model in models:\n",
        "    model.fit(X_train,y_train)\n",
        "    test_pred = model.predict(X_test)\n",
        "    report = classification_report(y_test,test_pred)\n",
        "    reports.append(report)\n",
        "  return reports"
      ],
      "metadata": {
        "id": "eNXER_UsYhRG"
      },
      "execution_count": 32,
      "outputs": []
    },
    {
      "cell_type": "code",
      "source": [
        "clf_reports_wp = ML_models(tfidf_train_wp, tfidf_val_wp, df_train_wp['encoded_labels'], df_val_wp['encoded_labels'])"
      ],
      "metadata": {
        "id": "TFRN-4SVZ7AS"
      },
      "execution_count": 21,
      "outputs": []
    },
    {
      "cell_type": "code",
      "source": [
        "clf_reports_cl = ML_models(tfidf_train_cl, tfidf_val_cl, df_train_cl['encoded_labels'], df_val_cl['encoded_labels'])"
      ],
      "metadata": {
        "id": "v9jFuZklpOWx"
      },
      "execution_count": 24,
      "outputs": []
    },
    {
      "cell_type": "code",
      "source": [
        "clf_reports_cl_swr = ML_models(tfidf_train_cl_swr , tfidf_val_cl_swr , df_train_cl_swr ['encoded_labels'], df_val_cl_swr ['encoded_labels'])"
      ],
      "metadata": {
        "id": "K_4ZW4HtpPhY"
      },
      "execution_count": 27,
      "outputs": []
    },
    {
      "cell_type": "code",
      "source": [
        "clf_reports_cl_lemma = ML_models(tfidf_train_cl_lemma, tfidf_val_cl_lemma, df_train_cl_lemma['encoded_labels'], df_val_cl_lemma['encoded_labels'])"
      ],
      "metadata": {
        "id": "Mn0wu5KjpQ88"
      },
      "execution_count": 30,
      "outputs": []
    },
    {
      "cell_type": "code",
      "source": [
        "clf_reports_cl_swr_lemma = ML_models(tfidf_train_cl_swr_lemma, tfidf_val_cl_swr_lemma, df_train_cl_swr_lemma['encoded_labels'], df_val_cl_swr_lemma['encoded_labels'])"
      ],
      "metadata": {
        "id": "FgnQvZnBpSL-"
      },
      "execution_count": 33,
      "outputs": []
    },
    {
      "cell_type": "code",
      "source": [
        "for i in range(len(names)):\n",
        "  print(names[i])\n",
        "  print(\"=\"*100)\n",
        "  print(clf_reports_wp[i])"
      ],
      "metadata": {
        "colab": {
          "base_uri": "https://localhost:8080/"
        },
        "id": "5jTOIqLfjE1y",
        "outputId": "3485801f-1f35-408b-b9f0-ca22155e5ae7"
      },
      "execution_count": 34,
      "outputs": [
        {
          "output_type": "stream",
          "name": "stdout",
          "text": [
            "Random Forest Tree\n",
            "====================================================================================================\n",
            "              precision    recall  f1-score   support\n",
            "\n",
            "           0       0.36      0.38      0.37       480\n",
            "           1       0.31      0.18      0.23       417\n",
            "           2       0.72      0.45      0.56       277\n",
            "           3       0.47      0.73      0.57       675\n",
            "           4       0.39      0.39      0.39       547\n",
            "           5       0.54      0.24      0.33       268\n",
            "\n",
            "    accuracy                           0.44      2664\n",
            "   macro avg       0.46      0.40      0.41      2664\n",
            "weighted avg       0.44      0.44      0.42      2664\n",
            "\n",
            "XGBOOST\n",
            "====================================================================================================\n",
            "              precision    recall  f1-score   support\n",
            "\n",
            "           0       0.34      0.38      0.36       480\n",
            "           1       0.33      0.23      0.27       417\n",
            "           2       0.67      0.44      0.53       277\n",
            "           3       0.48      0.71      0.57       675\n",
            "           4       0.37      0.35      0.36       547\n",
            "           5       0.47      0.24      0.32       268\n",
            "\n",
            "    accuracy                           0.43      2664\n",
            "   macro avg       0.44      0.39      0.40      2664\n",
            "weighted avg       0.43      0.43      0.41      2664\n",
            "\n",
            "Naive Bayes\n",
            "====================================================================================================\n",
            "              precision    recall  f1-score   support\n",
            "\n",
            "           0       0.42      0.30      0.35       480\n",
            "           1       0.38      0.08      0.14       417\n",
            "           2       0.88      0.27      0.41       277\n",
            "           3       0.40      0.86      0.54       675\n",
            "           4       0.35      0.43      0.39       547\n",
            "           5       0.57      0.03      0.06       268\n",
            "\n",
            "    accuracy                           0.41      2664\n",
            "   macro avg       0.50      0.33      0.32      2664\n",
            "weighted avg       0.46      0.41      0.35      2664\n",
            "\n",
            "SVM\n",
            "====================================================================================================\n",
            "              precision    recall  f1-score   support\n",
            "\n",
            "           0       0.37      0.43      0.40       480\n",
            "           1       0.32      0.22      0.26       417\n",
            "           2       0.78      0.43      0.55       277\n",
            "           3       0.52      0.73      0.61       675\n",
            "           4       0.39      0.45      0.41       547\n",
            "           5       0.54      0.20      0.29       268\n",
            "\n",
            "    accuracy                           0.45      2664\n",
            "   macro avg       0.49      0.41      0.42      2664\n",
            "weighted avg       0.46      0.45      0.44      2664\n",
            "\n"
          ]
        }
      ]
    },
    {
      "cell_type": "code",
      "source": [
        "for i in range(len(names)):\n",
        "  print(names[i])\n",
        "  print(\"=\"*100)\n",
        "  print(clf_reports_cl[i])"
      ],
      "metadata": {
        "id": "G1OitMbDpVmX",
        "colab": {
          "base_uri": "https://localhost:8080/"
        },
        "outputId": "1502d9c9-e590-4c82-933e-79b5194646f7"
      },
      "execution_count": 37,
      "outputs": [
        {
          "output_type": "stream",
          "name": "stdout",
          "text": [
            "Random Forest Tree\n",
            "====================================================================================================\n",
            "              precision    recall  f1-score   support\n",
            "\n",
            "           0       0.37      0.40      0.38       480\n",
            "           1       0.30      0.16      0.21       417\n",
            "           2       0.67      0.47      0.55       277\n",
            "           3       0.47      0.73      0.57       675\n",
            "           4       0.37      0.39      0.38       547\n",
            "           5       0.54      0.23      0.32       268\n",
            "\n",
            "    accuracy                           0.43      2664\n",
            "   macro avg       0.45      0.39      0.40      2664\n",
            "weighted avg       0.43      0.43      0.41      2664\n",
            "\n",
            "XGBOOST\n",
            "====================================================================================================\n",
            "              precision    recall  f1-score   support\n",
            "\n",
            "           0       0.35      0.39      0.37       480\n",
            "           1       0.29      0.21      0.25       417\n",
            "           2       0.64      0.45      0.53       277\n",
            "           3       0.48      0.71      0.57       675\n",
            "           4       0.38      0.35      0.36       547\n",
            "           5       0.46      0.22      0.30       268\n",
            "\n",
            "    accuracy                           0.42      2664\n",
            "   macro avg       0.43      0.39      0.40      2664\n",
            "weighted avg       0.42      0.42      0.41      2664\n",
            "\n",
            "Naive Bayes\n",
            "====================================================================================================\n",
            "              precision    recall  f1-score   support\n",
            "\n",
            "           0       0.41      0.30      0.35       480\n",
            "           1       0.36      0.07      0.12       417\n",
            "           2       0.87      0.26      0.40       277\n",
            "           3       0.40      0.85      0.54       675\n",
            "           4       0.34      0.43      0.38       547\n",
            "           5       0.54      0.03      0.05       268\n",
            "\n",
            "    accuracy                           0.40      2664\n",
            "   macro avg       0.49      0.32      0.31      2664\n",
            "weighted avg       0.44      0.40      0.34      2664\n",
            "\n",
            "SVM\n",
            "====================================================================================================\n",
            "              precision    recall  f1-score   support\n",
            "\n",
            "           0       0.36      0.42      0.39       480\n",
            "           1       0.32      0.22      0.26       417\n",
            "           2       0.78      0.44      0.56       277\n",
            "           3       0.51      0.72      0.60       675\n",
            "           4       0.39      0.44      0.41       547\n",
            "           5       0.56      0.20      0.29       268\n",
            "\n",
            "    accuracy                           0.45      2664\n",
            "   macro avg       0.49      0.41      0.42      2664\n",
            "weighted avg       0.46      0.45      0.43      2664\n",
            "\n"
          ]
        }
      ]
    },
    {
      "cell_type": "code",
      "source": [
        "for i in range(len(names)):\n",
        "  print(names[i])\n",
        "  print(\"=\"*100)\n",
        "  print(clf_reports_cl_swr[i])"
      ],
      "metadata": {
        "id": "K7v_XuMOpWi8",
        "colab": {
          "base_uri": "https://localhost:8080/"
        },
        "outputId": "1cef8626-643b-4991-e88c-5e9e52388127"
      },
      "execution_count": 38,
      "outputs": [
        {
          "output_type": "stream",
          "name": "stdout",
          "text": [
            "Random Forest Tree\n",
            "====================================================================================================\n",
            "              precision    recall  f1-score   support\n",
            "\n",
            "           0       0.33      0.41      0.37       480\n",
            "           1       0.27      0.16      0.20       417\n",
            "           2       0.66      0.47      0.55       277\n",
            "           3       0.48      0.67      0.56       670\n",
            "           4       0.35      0.35      0.35       546\n",
            "           5       0.45      0.24      0.31       268\n",
            "\n",
            "    accuracy                           0.41      2658\n",
            "   macro avg       0.42      0.38      0.39      2658\n",
            "weighted avg       0.41      0.41      0.40      2658\n",
            "\n",
            "XGBOOST\n",
            "====================================================================================================\n",
            "              precision    recall  f1-score   support\n",
            "\n",
            "           0       0.31      0.45      0.37       480\n",
            "           1       0.27      0.19      0.22       417\n",
            "           2       0.65      0.45      0.53       277\n",
            "           3       0.50      0.62      0.55       670\n",
            "           4       0.36      0.33      0.34       546\n",
            "           5       0.46      0.24      0.31       268\n",
            "\n",
            "    accuracy                           0.41      2658\n",
            "   macro avg       0.42      0.38      0.39      2658\n",
            "weighted avg       0.41      0.41      0.40      2658\n",
            "\n",
            "Naive Bayes\n",
            "====================================================================================================\n",
            "              precision    recall  f1-score   support\n",
            "\n",
            "           0       0.36      0.27      0.31       480\n",
            "           1       0.31      0.08      0.13       417\n",
            "           2       0.86      0.31      0.45       277\n",
            "           3       0.39      0.85      0.54       670\n",
            "           4       0.34      0.39      0.36       546\n",
            "           5       0.61      0.05      0.10       268\n",
            "\n",
            "    accuracy                           0.39      2658\n",
            "   macro avg       0.48      0.32      0.31      2658\n",
            "weighted avg       0.43      0.39      0.34      2658\n",
            "\n",
            "SVM\n",
            "====================================================================================================\n",
            "              precision    recall  f1-score   support\n",
            "\n",
            "           0       0.35      0.46      0.40       480\n",
            "           1       0.28      0.18      0.22       417\n",
            "           2       0.76      0.43      0.55       277\n",
            "           3       0.50      0.65      0.56       670\n",
            "           4       0.37      0.43      0.40       546\n",
            "           5       0.57      0.20      0.29       268\n",
            "\n",
            "    accuracy                           0.43      2658\n",
            "   macro avg       0.47      0.39      0.40      2658\n",
            "weighted avg       0.44      0.43      0.42      2658\n",
            "\n"
          ]
        }
      ]
    },
    {
      "cell_type": "code",
      "source": [
        "for i in range(len(names)):\n",
        "  print(names[i])\n",
        "  print(\"=\"*100)\n",
        "  print(clf_reports_cl_lemma[i])"
      ],
      "metadata": {
        "id": "0sCBB8WxpXSU",
        "colab": {
          "base_uri": "https://localhost:8080/"
        },
        "outputId": "f923dc3e-d439-4940-a949-a102f3550f90"
      },
      "execution_count": 39,
      "outputs": [
        {
          "output_type": "stream",
          "name": "stdout",
          "text": [
            "Random Forest Tree\n",
            "====================================================================================================\n",
            "              precision    recall  f1-score   support\n",
            "\n",
            "           0       0.35      0.38      0.36       480\n",
            "           1       0.28      0.16      0.20       417\n",
            "           2       0.67      0.45      0.54       277\n",
            "           3       0.48      0.72      0.58       675\n",
            "           4       0.36      0.39      0.37       547\n",
            "           5       0.54      0.23      0.32       268\n",
            "\n",
            "    accuracy                           0.43      2664\n",
            "   macro avg       0.45      0.39      0.40      2664\n",
            "weighted avg       0.43      0.43      0.41      2664\n",
            "\n",
            "XGBOOST\n",
            "====================================================================================================\n",
            "              precision    recall  f1-score   support\n",
            "\n",
            "           0       0.34      0.39      0.36       480\n",
            "           1       0.31      0.20      0.24       417\n",
            "           2       0.62      0.46      0.53       277\n",
            "           3       0.50      0.72      0.59       675\n",
            "           4       0.36      0.36      0.36       547\n",
            "           5       0.51      0.22      0.31       268\n",
            "\n",
            "    accuracy                           0.43      2664\n",
            "   macro avg       0.44      0.39      0.40      2664\n",
            "weighted avg       0.43      0.43      0.41      2664\n",
            "\n",
            "Naive Bayes\n",
            "====================================================================================================\n",
            "              precision    recall  f1-score   support\n",
            "\n",
            "           0       0.41      0.30      0.34       480\n",
            "           1       0.34      0.07      0.11       417\n",
            "           2       0.89      0.27      0.42       277\n",
            "           3       0.39      0.85      0.54       675\n",
            "           4       0.34      0.41      0.37       547\n",
            "           5       0.57      0.03      0.06       268\n",
            "\n",
            "    accuracy                           0.40      2664\n",
            "   macro avg       0.49      0.32      0.31      2664\n",
            "weighted avg       0.45      0.40      0.34      2664\n",
            "\n",
            "SVM\n",
            "====================================================================================================\n",
            "              precision    recall  f1-score   support\n",
            "\n",
            "           0       0.35      0.41      0.38       480\n",
            "           1       0.29      0.19      0.23       417\n",
            "           2       0.77      0.45      0.57       277\n",
            "           3       0.52      0.70      0.60       675\n",
            "           4       0.38      0.44      0.41       547\n",
            "           5       0.54      0.20      0.29       268\n",
            "\n",
            "    accuracy                           0.44      2664\n",
            "   macro avg       0.47      0.40      0.41      2664\n",
            "weighted avg       0.45      0.44      0.43      2664\n",
            "\n"
          ]
        }
      ]
    },
    {
      "cell_type": "code",
      "source": [
        "for i in range(len(names)):\n",
        "  print(names[i])\n",
        "  print(\"=\"*100)\n",
        "  print(clf_reports_cl_swr_lemma[i])"
      ],
      "metadata": {
        "id": "rpf-FdO7pYB2",
        "colab": {
          "base_uri": "https://localhost:8080/"
        },
        "outputId": "8c0d600a-6c37-48fd-b942-b5642427ba4b"
      },
      "execution_count": 40,
      "outputs": [
        {
          "output_type": "stream",
          "name": "stdout",
          "text": [
            "Random Forest Tree\n",
            "====================================================================================================\n",
            "              precision    recall  f1-score   support\n",
            "\n",
            "           0       0.34      0.34      0.34       480\n",
            "           1       0.29      0.19      0.23       417\n",
            "           2       0.64      0.47      0.54       277\n",
            "           3       0.47      0.70      0.57       670\n",
            "           4       0.34      0.35      0.34       546\n",
            "           5       0.46      0.24      0.31       268\n",
            "\n",
            "    accuracy                           0.41      2658\n",
            "   macro avg       0.42      0.38      0.39      2658\n",
            "weighted avg       0.41      0.41      0.40      2658\n",
            "\n",
            "XGBOOST\n",
            "====================================================================================================\n",
            "              precision    recall  f1-score   support\n",
            "\n",
            "           0       0.32      0.45      0.37       480\n",
            "           1       0.28      0.19      0.23       417\n",
            "           2       0.64      0.44      0.52       277\n",
            "           3       0.49      0.62      0.55       670\n",
            "           4       0.36      0.36      0.36       546\n",
            "           5       0.50      0.21      0.30       268\n",
            "\n",
            "    accuracy                           0.41      2658\n",
            "   macro avg       0.43      0.38      0.39      2658\n",
            "weighted avg       0.42      0.41      0.40      2658\n",
            "\n",
            "Naive Bayes\n",
            "====================================================================================================\n",
            "              precision    recall  f1-score   support\n",
            "\n",
            "           0       0.36      0.28      0.32       480\n",
            "           1       0.32      0.07      0.12       417\n",
            "           2       0.87      0.31      0.46       277\n",
            "           3       0.40      0.85      0.54       670\n",
            "           4       0.34      0.38      0.36       546\n",
            "           5       0.67      0.05      0.10       268\n",
            "\n",
            "    accuracy                           0.39      2658\n",
            "   macro avg       0.49      0.33      0.32      2658\n",
            "weighted avg       0.44      0.39      0.34      2658\n",
            "\n",
            "SVM\n",
            "====================================================================================================\n",
            "              precision    recall  f1-score   support\n",
            "\n",
            "           0       0.33      0.38      0.35       480\n",
            "           1       0.25      0.16      0.19       417\n",
            "           2       0.76      0.44      0.56       277\n",
            "           3       0.48      0.69      0.57       670\n",
            "           4       0.36      0.42      0.39       546\n",
            "           5       0.57      0.19      0.29       268\n",
            "\n",
            "    accuracy                           0.42      2658\n",
            "   macro avg       0.46      0.38      0.39      2658\n",
            "weighted avg       0.43      0.42      0.40      2658\n",
            "\n"
          ]
        }
      ]
    },
    {
      "cell_type": "code",
      "source": [],
      "metadata": {
        "id": "dxQj0rdHkvNq"
      },
      "execution_count": null,
      "outputs": []
    }
  ]
}